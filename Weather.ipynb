{
  "nbformat": 4,
  "nbformat_minor": 0,
  "metadata": {
    "colab": {
      "name": "Weather.ipynb",
      "provenance": []
    },
    "kernelspec": {
      "name": "python3",
      "display_name": "Python 3"
    },
    "language_info": {
      "name": "python"
    }
  },
  "cells": [
    {
      "cell_type": "code",
      "metadata": {
        "colab": {
          "base_uri": "https://localhost:8080/"
        },
        "id": "x0P0y9_bHH5d",
        "outputId": "2ce0862a-f48e-4340-bbea-d7f6bef4d0dc"
      },
      "source": [
        "import requests\n",
        "from datetime import datetime\n",
        "import pytz #for IST timezone\n",
        "\n",
        "api_key = '85b337bb1f3e785ad615a2ca69058356'\n",
        "location = input(\"Enter the city name: \")\n",
        "\n",
        "complete_api_link = \"https://api.openweathermap.org/data/2.5/weather?q=\"+location+\"&appid=\"+api_key\n",
        "api_link = requests.get(complete_api_link)\n",
        "api_data = api_link.json()\n",
        "\n",
        "#creating variables to store and display data\n",
        "temp_city = ((api_data['main']['temp']) - 273.15)\n",
        "weather_desc = api_data['weather'][0]['description']\n",
        "humidity = api_data['main']['humidity']\n",
        "wind_speed = api_data['wind']['speed']\n",
        "IST =  pytz.timezone('Asia/Kolkata')\n",
        "datetime_ist = datetime.now(IST)\n",
        "date_time = datetime_ist.strftime(\"%d %b %Y | %I:%M:%S %p\")\n",
        "\n",
        "print (\"---------------------------------------------------------\")\n",
        "print(\"Weather stats for - {}  || {}\".format(location.upper(), date_time))\n",
        "print (\"---------------------------------------------------------\")\n",
        "\n",
        "print(\"Current  Temperature is: {:.2f} deg C\".format(temp_city))\n",
        "print(\"Current Weather is: \", weather_desc)\n",
        "print(\"Current Humidity is: \", humidity, '%')\n",
        "print(\"Current Wind Speed is: \", wind_speed, \"kmph\")\n",
        "print(\"========================================================\")\n",
        "\n",
        "#making a list so that i can the print the info to a txt\n",
        "txtlist = [temp_city,weather_desc,humidity,wind_speed,date_time]\n",
        "#using open() built-in function to write to a text file\n",
        "with open(\"textfile.txt\", mode='w', encoding='utf-8') as f:\n",
        "  f.write(\"--------------------------------------------------------- \\n \")\n",
        "  f.write(\"Weather stats for - {}  || {}\".format(location.upper(), date_time))\n",
        "  f.write(\"--------------------------------------------------------- \\n \")\n",
        "\n",
        "  f.write(\"Current  Temperature is: {:.2f} deg C\\n\".format(txtlist[0]))\n",
        "  f.write(\"{}, {} \\n\".format(\"Current Weather is: \", txtlist[1]))\n",
        "  f.write(\"{}, {}, {} \\n\".format(\"Current Humidity is: \", txtlist[2], '%'))\n",
        "  f.write(\"{}, {}, {} \\n\".format(\"Current Wind Speed is: \", txtlist[3], \"kmph\"))\n",
        "  f.write(\"========================================================\")\n"
      ],
      "execution_count": 23,
      "outputs": [
        {
          "output_type": "stream",
          "text": [
            "Enter the city name: Mumbai\n",
            "---------------------------------------------------------\n",
            "Weather stats for - MUMBAI  || 27 Jul 2021 | 08:19:23 PM\n",
            "---------------------------------------------------------\n",
            "Current  Temperature is: 28.99 deg C\n",
            "Current Weather is:  light intensity drizzle\n",
            "Current Humidity is:  84 %\n",
            "Current Wind Speed is:  5.66 kmph\n",
            "========================================================\n"
          ],
          "name": "stdout"
        }
      ]
    }
  ]
}